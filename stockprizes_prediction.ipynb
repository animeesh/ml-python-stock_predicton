{
 "cells": [
  {
   "cell_type": "code",
   "execution_count": 21,
   "metadata": {},
   "outputs": [],
   "source": [
    "import math\n",
    "import matplotlib.pyplot as plt\n",
    "import pandas as pd\n",
    "import numpy as np\n",
    "from sklearn.preprocessing import MinMaxScaler\n",
    "import pandas_datareader as web\n",
    "from keras.models import Sequential\n",
    "from keras.layers import Dense,LSTM"
   ]
  },
  {
   "cell_type": "code",
   "execution_count": 22,
   "metadata": {},
   "outputs": [
    {
     "data": {
      "text/html": [
       "<div>\n",
       "<style scoped>\n",
       "    .dataframe tbody tr th:only-of-type {\n",
       "        vertical-align: middle;\n",
       "    }\n",
       "\n",
       "    .dataframe tbody tr th {\n",
       "        vertical-align: top;\n",
       "    }\n",
       "\n",
       "    .dataframe thead th {\n",
       "        text-align: right;\n",
       "    }\n",
       "</style>\n",
       "<table border=\"1\" class=\"dataframe\">\n",
       "  <thead>\n",
       "    <tr style=\"text-align: right;\">\n",
       "      <th></th>\n",
       "      <th>High</th>\n",
       "      <th>Low</th>\n",
       "      <th>Open</th>\n",
       "      <th>Close</th>\n",
       "      <th>Volume</th>\n",
       "      <th>Adj Close</th>\n",
       "    </tr>\n",
       "    <tr>\n",
       "      <th>Date</th>\n",
       "      <th></th>\n",
       "      <th></th>\n",
       "      <th></th>\n",
       "      <th></th>\n",
       "      <th></th>\n",
       "      <th></th>\n",
       "    </tr>\n",
       "  </thead>\n",
       "  <tbody>\n",
       "    <tr>\n",
       "      <th>2013-12-31</th>\n",
       "      <td>37.580002</td>\n",
       "      <td>37.220001</td>\n",
       "      <td>37.400002</td>\n",
       "      <td>37.410000</td>\n",
       "      <td>17503500.0</td>\n",
       "      <td>32.432014</td>\n",
       "    </tr>\n",
       "    <tr>\n",
       "      <th>2014-01-02</th>\n",
       "      <td>37.400002</td>\n",
       "      <td>37.099998</td>\n",
       "      <td>37.349998</td>\n",
       "      <td>37.160000</td>\n",
       "      <td>30632200.0</td>\n",
       "      <td>32.215286</td>\n",
       "    </tr>\n",
       "    <tr>\n",
       "      <th>2014-01-03</th>\n",
       "      <td>37.220001</td>\n",
       "      <td>36.599998</td>\n",
       "      <td>37.200001</td>\n",
       "      <td>36.910000</td>\n",
       "      <td>31134800.0</td>\n",
       "      <td>31.998550</td>\n",
       "    </tr>\n",
       "    <tr>\n",
       "      <th>2014-01-06</th>\n",
       "      <td>36.889999</td>\n",
       "      <td>36.110001</td>\n",
       "      <td>36.849998</td>\n",
       "      <td>36.130001</td>\n",
       "      <td>43603700.0</td>\n",
       "      <td>31.322340</td>\n",
       "    </tr>\n",
       "    <tr>\n",
       "      <th>2014-01-07</th>\n",
       "      <td>36.490002</td>\n",
       "      <td>36.209999</td>\n",
       "      <td>36.330002</td>\n",
       "      <td>36.410000</td>\n",
       "      <td>35802800.0</td>\n",
       "      <td>31.565083</td>\n",
       "    </tr>\n",
       "    <tr>\n",
       "      <th>...</th>\n",
       "      <td>...</td>\n",
       "      <td>...</td>\n",
       "      <td>...</td>\n",
       "      <td>...</td>\n",
       "      <td>...</td>\n",
       "      <td>...</td>\n",
       "    </tr>\n",
       "    <tr>\n",
       "      <th>2020-09-29</th>\n",
       "      <td>210.070007</td>\n",
       "      <td>206.809998</td>\n",
       "      <td>209.350006</td>\n",
       "      <td>207.259995</td>\n",
       "      <td>24221900.0</td>\n",
       "      <td>207.259995</td>\n",
       "    </tr>\n",
       "    <tr>\n",
       "      <th>2020-09-30</th>\n",
       "      <td>211.979996</td>\n",
       "      <td>206.539993</td>\n",
       "      <td>207.729996</td>\n",
       "      <td>210.330002</td>\n",
       "      <td>33780700.0</td>\n",
       "      <td>210.330002</td>\n",
       "    </tr>\n",
       "    <tr>\n",
       "      <th>2020-10-01</th>\n",
       "      <td>213.990005</td>\n",
       "      <td>211.320007</td>\n",
       "      <td>213.490005</td>\n",
       "      <td>212.460007</td>\n",
       "      <td>27158400.0</td>\n",
       "      <td>212.460007</td>\n",
       "    </tr>\n",
       "    <tr>\n",
       "      <th>2020-10-02</th>\n",
       "      <td>210.990005</td>\n",
       "      <td>205.539993</td>\n",
       "      <td>208.000000</td>\n",
       "      <td>206.190002</td>\n",
       "      <td>33154800.0</td>\n",
       "      <td>206.190002</td>\n",
       "    </tr>\n",
       "    <tr>\n",
       "      <th>2020-10-05</th>\n",
       "      <td>210.410004</td>\n",
       "      <td>206.979996</td>\n",
       "      <td>207.220001</td>\n",
       "      <td>210.380005</td>\n",
       "      <td>21331600.0</td>\n",
       "      <td>210.380005</td>\n",
       "    </tr>\n",
       "  </tbody>\n",
       "</table>\n",
       "<p>1703 rows × 6 columns</p>\n",
       "</div>"
      ],
      "text/plain": [
       "                  High         Low        Open       Close      Volume  \\\n",
       "Date                                                                     \n",
       "2013-12-31   37.580002   37.220001   37.400002   37.410000  17503500.0   \n",
       "2014-01-02   37.400002   37.099998   37.349998   37.160000  30632200.0   \n",
       "2014-01-03   37.220001   36.599998   37.200001   36.910000  31134800.0   \n",
       "2014-01-06   36.889999   36.110001   36.849998   36.130001  43603700.0   \n",
       "2014-01-07   36.490002   36.209999   36.330002   36.410000  35802800.0   \n",
       "...                ...         ...         ...         ...         ...   \n",
       "2020-09-29  210.070007  206.809998  209.350006  207.259995  24221900.0   \n",
       "2020-09-30  211.979996  206.539993  207.729996  210.330002  33780700.0   \n",
       "2020-10-01  213.990005  211.320007  213.490005  212.460007  27158400.0   \n",
       "2020-10-02  210.990005  205.539993  208.000000  206.190002  33154800.0   \n",
       "2020-10-05  210.410004  206.979996  207.220001  210.380005  21331600.0   \n",
       "\n",
       "             Adj Close  \n",
       "Date                    \n",
       "2013-12-31   32.432014  \n",
       "2014-01-02   32.215286  \n",
       "2014-01-03   31.998550  \n",
       "2014-01-06   31.322340  \n",
       "2014-01-07   31.565083  \n",
       "...                ...  \n",
       "2020-09-29  207.259995  \n",
       "2020-09-30  210.330002  \n",
       "2020-10-01  212.460007  \n",
       "2020-10-02  206.190002  \n",
       "2020-10-05  210.380005  \n",
       "\n",
       "[1703 rows x 6 columns]"
      ]
     },
     "execution_count": 22,
     "metadata": {},
     "output_type": "execute_result"
    }
   ],
   "source": [
    "df=web.DataReader('MSFT',data_source=\"yahoo\",start='2014-01-01',end='2020-10-05')\n",
    "df"
   ]
  },
  {
   "cell_type": "code",
   "execution_count": 23,
   "metadata": {},
   "outputs": [
    {
     "data": {
      "text/plain": [
       "(1703, 6)"
      ]
     },
     "execution_count": 23,
     "metadata": {},
     "output_type": "execute_result"
    }
   ],
   "source": [
    "df.shape"
   ]
  },
  {
   "cell_type": "code",
   "execution_count": 24,
   "metadata": {},
   "outputs": [
    {
     "data": {
      "image/png": "[encoded data removed]",
      "text/plain": [
       "<Figure size 1152x576 with 1 Axes>"
      ]
     },
     "metadata": {
      "needs_background": "light"
     },
     "output_type": "display_data"
    }
   ],
   "source": [
    "plt.figure(figsize=(16,8))\n",
    "plt.title(\"Close_price_history\")\n",
    "plt.plot(df[\"Close\"])\n",
    "plt.xlabel(\"date\")\n",
    "plt.ylabel(\"close_price in USD($)\")\n",
    "plt.show()"
   ]
  },
  {
   "cell_type": "code",
   "execution_count": 25,
   "metadata": {},
   "outputs": [
    {
     "data": {
      "text/plain": [
       "1363"
      ]
     },
     "execution_count": 25,
     "metadata": {},
     "output_type": "execute_result"
    }
   ],
   "source": [
    "#slicing out the 80%data from the close column \n",
    "data=df.filter(['Close'])\n",
    "#getting the numbers of data\n",
    "dataset=data.values\n",
    "traning_data=math.ceil( len(dataset)*0.8)\n",
    "traning_data\n"
   ]
  },
  {
   "cell_type": "code",
   "execution_count": 26,
   "metadata": {},
   "outputs": [
    {
     "data": {
      "text/plain": [
       "array([[0.01235572],\n",
       "       [0.01108456],\n",
       "       [0.00981339],\n",
       "       ...,\n",
       "       [0.90242544],\n",
       "       [0.87054461],\n",
       "       [0.89184934]])"
      ]
     },
     "execution_count": 26,
     "metadata": {},
     "output_type": "execute_result"
    }
   ],
   "source": [
    "#basiclythis step is to scale the data to float and int\n",
    "scaler=MinMaxScaler()\n",
    "#min_max_scaler = MinMaxScaler()\n",
    "scaled_data=scaler.fit_transform(dataset)\n",
    "#df[[\"A\", \"B\"]] = min_max_scaler.fit_transform(df[[\"A\", \"B\"]])\n",
    "scaled_data"
   ]
  },
  {
   "cell_type": "code",
   "execution_count": 27,
   "metadata": {},
   "outputs": [
    {
     "name": "stdout",
     "output_type": "stream",
     "text": [
      "[array([0.01235572, 0.01108456, 0.00981339, 0.00584737, 0.00727106,\n",
      "       0.00396603, 0.00279656, 0.00538975, 0.        , 0.00406772,\n",
      "       0.00905069, 0.0097117 , 0.00711853, 0.00605074, 0.00483043,\n",
      "       0.00549144, 0.00930494, 0.00533889, 0.00655922, 0.00854223,\n",
      "       0.00955917, 0.01454213, 0.00762699, 0.00696598, 0.00427111,\n",
      "       0.0061016 , 0.00803377, 0.00925408, 0.0111354 , 0.01266081,\n",
      "       0.01337266, 0.0134235 , 0.01240656, 0.01286418, 0.01408451,\n",
      "       0.01525398, 0.01377942, 0.01301674, 0.01266081, 0.01464383,\n",
      "       0.01693193, 0.01423704, 0.01744038, 0.01591499, 0.01611838,\n",
      "       0.01484722, 0.01444043, 0.01545737, 0.01672854, 0.01479636,\n",
      "       0.01383028, 0.0156099 , 0.02323689, 0.02181319, 0.02720294,\n",
      "       0.02633854, 0.02806732, 0.02725378, 0.02445722, 0.02227082])]\n",
      "[0.027050388201271175]\n",
      "[array([0.01235572, 0.01108456, 0.00981339, 0.00584737, 0.00727106,\n",
      "       0.00396603, 0.00279656, 0.00538975, 0.        , 0.00406772,\n",
      "       0.00905069, 0.0097117 , 0.00711853, 0.00605074, 0.00483043,\n",
      "       0.00549144, 0.00930494, 0.00533889, 0.00655922, 0.00854223,\n",
      "       0.00955917, 0.01454213, 0.00762699, 0.00696598, 0.00427111,\n",
      "       0.0061016 , 0.00803377, 0.00925408, 0.0111354 , 0.01266081,\n",
      "       0.01337266, 0.0134235 , 0.01240656, 0.01286418, 0.01408451,\n",
      "       0.01525398, 0.01377942, 0.01301674, 0.01266081, 0.01464383,\n",
      "       0.01693193, 0.01423704, 0.01744038, 0.01591499, 0.01611838,\n",
      "       0.01484722, 0.01444043, 0.01545737, 0.01672854, 0.01479636,\n",
      "       0.01383028, 0.0156099 , 0.02323689, 0.02181319, 0.02720294,\n",
      "       0.02633854, 0.02806732, 0.02725378, 0.02445722, 0.02227082]), array([0.01108456, 0.00981339, 0.00584737, 0.00727106, 0.00396603,\n",
      "       0.00279656, 0.00538975, 0.        , 0.00406772, 0.00905069,\n",
      "       0.0097117 , 0.00711853, 0.00605074, 0.00483043, 0.00549144,\n",
      "       0.00930494, 0.00533889, 0.00655922, 0.00854223, 0.00955917,\n",
      "       0.01454213, 0.00762699, 0.00696598, 0.00427111, 0.0061016 ,\n",
      "       0.00803377, 0.00925408, 0.0111354 , 0.01266081, 0.01337266,\n",
      "       0.0134235 , 0.01240656, 0.01286418, 0.01408451, 0.01525398,\n",
      "       0.01377942, 0.01301674, 0.01266081, 0.01464383, 0.01693193,\n",
      "       0.01423704, 0.01744038, 0.01591499, 0.01611838, 0.01484722,\n",
      "       0.01444043, 0.01545737, 0.01672854, 0.01479636, 0.01383028,\n",
      "       0.0156099 , 0.02323689, 0.02181319, 0.02720294, 0.02633854,\n",
      "       0.02806732, 0.02725378, 0.02445722, 0.02227082, 0.02705039])]\n",
      "[0.027050388201271175, 0.030558815827314623]\n"
     ]
    }
   ],
   "source": [
    "trained_data=scaled_data[0:traning_data,:]\n",
    "x_train=[]\n",
    "y_train=[]\n",
    "\n",
    "for i in range(60, len(trained_data)):\n",
    "    x_train.append(trained_data[i-60:i,0])\n",
    "    y_train.append(trained_data[i,0])\n",
    "    if i<=61:\n",
    "        print(x_train)\n",
    "        print(y_train)\n",
    "    \n"
   ]
  },
  {
   "cell_type": "code",
   "execution_count": 28,
   "metadata": {},
   "outputs": [
    {
     "data": {
      "text/plain": [
       "(1303, 60, 1)"
      ]
     },
     "execution_count": 28,
     "metadata": {},
     "output_type": "execute_result"
    }
   ],
   "source": [
    "x_train,y_train=np.array(x_train),np.array(y_train)\n",
    "#reshape data\n",
    "x_train=np.reshape(x_train,(x_train.shape[0],x_train.shape[1],1))\n",
    "x_train.shape"
   ]
  },
  {
   "cell_type": "code",
   "execution_count": 29,
   "metadata": {},
   "outputs": [],
   "source": [
    "model=Sequential()\n",
    "model.add(LSTM(50,return_sequences=True, input_shape=(x_train.shape[1],1)))\n",
    "model.add(LSTM(50,return_sequences=False))\n",
    "model.add(Dense(25))\n",
    "model.add(Dense(1))"
   ]
  },
  {
   "cell_type": "code",
   "execution_count": 30,
   "metadata": {},
   "outputs": [],
   "source": [
    "model.compile(optimizer='adam', loss='mean_squared_error')"
   ]
  },
  {
   "cell_type": "raw",
   "metadata": {},
   "source": []
  },
  {
   "cell_type": "code",
   "execution_count": 31,
   "metadata": {},
   "outputs": [
    {
     "name": "stdout",
     "output_type": "stream",
     "text": [
      "1303/1303 [==============================] - 47s 36ms/step - loss: 3.9024e-04\n"
     ]
    },
    {
     "data": {
      "text/plain": [
       "<tensorflow.python.keras.callbacks.History at 0x25792a109a0>"
      ]
     },
     "execution_count": 31,
     "metadata": {},
     "output_type": "execute_result"
    }
   ],
   "source": [
    "model.fit(x_train,y_train,batch_size=1,epochs=1)"
   ]
  },
  {
   "cell_type": "code",
   "execution_count": 32,
   "metadata": {},
   "outputs": [],
   "source": [
    "test_data=scaled_data[traning_data-60:,:]\n",
    "x_test=[]\n",
    "y_test=dataset[traning_data:,:]\n",
    "\n",
    "for i in range (60,len(test_data)):\n",
    "    x_test.append(test_data[i-60:i,0])"
   ]
  },
  {
   "cell_type": "code",
   "execution_count": 33,
   "metadata": {},
   "outputs": [
    {
     "data": {
      "text/plain": [
       "(340, 60, 1)"
      ]
     },
     "execution_count": 33,
     "metadata": {},
     "output_type": "execute_result"
    }
   ],
   "source": [
    "x_test,y_test=np.array(x_test),np.array(y_test)\n",
    "\n",
    "#reshape data\n",
    "x_test=np.reshape(x_test,(x_test.shape[0],x_test.shape[1],1))\n",
    "x_test.shape"
   ]
  },
  {
   "cell_type": "code",
   "execution_count": 34,
   "metadata": {},
   "outputs": [],
   "source": [
    "#model pridiction\n",
    "prediction = model.predict(x_test)\n",
    "prediction = scaler.inverse_transform(prediction)"
   ]
  },
  {
   "cell_type": "code",
   "execution_count": 35,
   "metadata": {},
   "outputs": [
    {
     "name": "stdout",
     "output_type": "stream",
     "text": [
      "rmse: 11.760923744650448\n"
     ]
    }
   ],
   "source": [
    "#RMSE\n",
    "#from sklearn.metrics import mean_squared_error\n",
    "rmse=np.sqrt(np.mean(prediction-y_test)**2)\n",
    "print(\"rmse: {}\".format(rmse))\n"
   ]
  },
  {
   "cell_type": "code",
   "execution_count": 36,
   "metadata": {},
   "outputs": [
    {
     "name": "stderr",
     "output_type": "stream",
     "text": [
      "<ipython-input-36-6b022c400902>:3: SettingWithCopyWarning: \n",
      "A value is trying to be set on a copy of a slice from a DataFrame.\n",
      "Try using .loc[row_indexer,col_indexer] = value instead\n",
      "\n",
      "See the caveats in the documentation: https://pandas.pydata.org/pandas-docs/stable/user_guide/indexing.html#returning-a-view-versus-a-copy\n",
      "  valid['prediction']=prediction\n"
     ]
    }
   ],
   "source": [
    "train=data[:traning_data]\n",
    "valid=data[traning_data:]\n",
    "valid['prediction']=prediction"
   ]
  },
  {
   "cell_type": "code",
   "execution_count": 37,
   "metadata": {},
   "outputs": [
    {
     "data": {
      "image/png": "[encoded data removed]",
      "text/plain": [
       "<Figure size 1152x576 with 1 Axes>"
      ]
     },
     "metadata": {
      "needs_background": "light"
     },
     "output_type": "display_data"
    }
   ],
   "source": [
    "\n",
    "#visualize the data\n",
    "plt.figure(figsize=(16,8))\n",
    "plt.title('prediction model')\n",
    "plt.xlabel('Date',fontsize='18')\n",
    "plt.ylabel('Close price in USD($)',fontsize='18')\n",
    "plt.plot(train['Close'])\n",
    "plt.plot(valid[['Close','prediction']])\n",
    "plt.legend(['Train','Val','prediction'],loc='lower right')\n",
    "plt.show()\n"
   ]
  },
  {
   "cell_type": "raw",
   "metadata": {},
   "source": []
  },
  {
   "cell_type": "code",
   "execution_count": 38,
   "metadata": {},
   "outputs": [
    {
     "data": {
      "text/html": [
       "<div>\n",
       "<style scoped>\n",
       "    .dataframe tbody tr th:only-of-type {\n",
       "        vertical-align: middle;\n",
       "    }\n",
       "\n",
       "    .dataframe tbody tr th {\n",
       "        vertical-align: top;\n",
       "    }\n",
       "\n",
       "    .dataframe thead th {\n",
       "        text-align: right;\n",
       "    }\n",
       "</style>\n",
       "<table border=\"1\" class=\"dataframe\">\n",
       "  <thead>\n",
       "    <tr style=\"text-align: right;\">\n",
       "      <th></th>\n",
       "      <th>Close</th>\n",
       "      <th>prediction</th>\n",
       "    </tr>\n",
       "    <tr>\n",
       "      <th>Date</th>\n",
       "      <th></th>\n",
       "      <th></th>\n",
       "    </tr>\n",
       "  </thead>\n",
       "  <tbody>\n",
       "    <tr>\n",
       "      <th>2019-06-03</th>\n",
       "      <td>119.839996</td>\n",
       "      <td>136.175262</td>\n",
       "    </tr>\n",
       "    <tr>\n",
       "      <th>2019-06-04</th>\n",
       "      <td>123.160004</td>\n",
       "      <td>135.463501</td>\n",
       "    </tr>\n",
       "    <tr>\n",
       "      <th>2019-06-05</th>\n",
       "      <td>125.830002</td>\n",
       "      <td>134.895660</td>\n",
       "    </tr>\n",
       "    <tr>\n",
       "      <th>2019-06-06</th>\n",
       "      <td>127.820000</td>\n",
       "      <td>134.676071</td>\n",
       "    </tr>\n",
       "    <tr>\n",
       "      <th>2019-06-07</th>\n",
       "      <td>131.399994</td>\n",
       "      <td>134.828674</td>\n",
       "    </tr>\n",
       "    <tr>\n",
       "      <th>...</th>\n",
       "      <td>...</td>\n",
       "      <td>...</td>\n",
       "    </tr>\n",
       "    <tr>\n",
       "      <th>2020-09-29</th>\n",
       "      <td>207.259995</td>\n",
       "      <td>220.423660</td>\n",
       "    </tr>\n",
       "    <tr>\n",
       "      <th>2020-09-30</th>\n",
       "      <td>210.330002</td>\n",
       "      <td>220.759766</td>\n",
       "    </tr>\n",
       "    <tr>\n",
       "      <th>2020-10-01</th>\n",
       "      <td>212.460007</td>\n",
       "      <td>221.324188</td>\n",
       "    </tr>\n",
       "    <tr>\n",
       "      <th>2020-10-02</th>\n",
       "      <td>206.190002</td>\n",
       "      <td>222.126602</td>\n",
       "    </tr>\n",
       "    <tr>\n",
       "      <th>2020-10-05</th>\n",
       "      <td>210.380005</td>\n",
       "      <td>222.458481</td>\n",
       "    </tr>\n",
       "  </tbody>\n",
       "</table>\n",
       "<p>340 rows × 2 columns</p>\n",
       "</div>"
      ],
      "text/plain": [
       "                 Close  prediction\n",
       "Date                              \n",
       "2019-06-03  119.839996  136.175262\n",
       "2019-06-04  123.160004  135.463501\n",
       "2019-06-05  125.830002  134.895660\n",
       "2019-06-06  127.820000  134.676071\n",
       "2019-06-07  131.399994  134.828674\n",
       "...                ...         ...\n",
       "2020-09-29  207.259995  220.423660\n",
       "2020-09-30  210.330002  220.759766\n",
       "2020-10-01  212.460007  221.324188\n",
       "2020-10-02  206.190002  222.126602\n",
       "2020-10-05  210.380005  222.458481\n",
       "\n",
       "[340 rows x 2 columns]"
      ]
     },
     "execution_count": 38,
     "metadata": {},
     "output_type": "execute_result"
    }
   ],
   "source": [
    "valid"
   ]
  },
  {
   "cell_type": "code",
   "execution_count": 39,
   "metadata": {},
   "outputs": [
    {
     "name": "stdout",
     "output_type": "stream",
     "text": [
      "[[121.98462]]\n"
     ]
    }
   ],
   "source": [
    "apple_quote=web.DataReader('AAPL',data_source='yahoo',start='2015-01-01',end='2020-10-05')\n",
    "new_df= apple_quote.filter(['Close'])\n",
    "last_60_days=new_df[-60:].values\n",
    "last_60_days_scaled=scaler.transform(last_60_days)\n",
    "x_test=[]\n",
    "x_test.append(last_60_days_scaled)\n",
    "x_test=np.array(x_test)\n",
    "x_test=np.reshape(x_test,(x_test.shape[0],x_test.shape[1],1))\n",
    "pred_price=model.predict(x_test)\n",
    "pred_price=scaler.inverse_transform(pred_price)\n",
    "print(pred_price)"
   ]
  },
  {
   "cell_type": "code",
   "execution_count": 40,
   "metadata": {},
   "outputs": [
    {
     "name": "stdout",
     "output_type": "stream",
     "text": [
      "Date\n",
      "2020-10-06    113.160004\n",
      "2020-10-07    115.080002\n",
      "Name: Close, dtype: float64\n"
     ]
    }
   ],
   "source": [
    "apple_quote2=web.DataReader('AAPL',data_source='yahoo',start='2020-10-07',end='2020-10-07')\n",
    "print(apple_quote2[\"Close\"])"
   ]
  }
 ],
 "metadata": {
  "kernelspec": {
   "display_name": "Python 3",
   "language": "python",
   "name": "python3"
  },
  "language_info": {
   "codemirror_mode": {
    "name": "ipython",
    "version": 3
   },
   "file_extension": ".py",
   "mimetype": "text/x-python",
   "name": "python",
   "nbconvert_exporter": "python",
   "pygments_lexer": "ipython3",
   "version": "3.8.3"
  }
 },
 "nbformat": 4,
 "nbformat_minor": 4
}
